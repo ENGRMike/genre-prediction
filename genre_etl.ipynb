{
  "nbformat": 4,
  "nbformat_minor": 0,
  "metadata": {
    "colab": {
      "name": "genre_etl.ipynb",
      "provenance": [],
      "authorship_tag": "ABX9TyNHZk0k8B8KdlmBYqN/pTVU",
      "include_colab_link": true
    },
    "kernelspec": {
      "name": "python3",
      "display_name": "Python 3"
    },
    "language_info": {
      "name": "python"
    }
  },
  "cells": [
    {
      "cell_type": "markdown",
      "metadata": {
        "id": "view-in-github",
        "colab_type": "text"
      },
      "source": [
        "<a href=\"https://colab.research.google.com/github/ENGRMike/genre-prediction/blob/main/genre_etl.ipynb\" target=\"_parent\"><img src=\"https://colab.research.google.com/assets/colab-badge.svg\" alt=\"Open In Colab\"/></a>"
      ]
    },
    {
      "cell_type": "code",
      "metadata": {
        "colab": {
          "base_uri": "https://localhost:8080/"
        },
        "id": "X9y-2JyZF_Mu",
        "outputId": "e6912d75-9c53-4b3c-ea04-bf7443ab9461"
      },
      "source": [
        "!pwd"
      ],
      "execution_count": 1,
      "outputs": [
        {
          "output_type": "stream",
          "name": "stdout",
          "text": [
            "/content\n"
          ]
        }
      ]
    },
    {
      "cell_type": "code",
      "metadata": {
        "colab": {
          "base_uri": "https://localhost:8080/"
        },
        "id": "GDsTRIEJZw4l",
        "outputId": "9f688d42-6d3f-4bc7-9799-9ea56a5e2b4b"
      },
      "source": [
        "from google.colab import drive\n",
        "drive.mount(\"/content/gdrive\")"
      ],
      "execution_count": null,
      "outputs": [
        {
          "output_type": "stream",
          "name": "stdout",
          "text": [
            "Mounted at /content/gdrive\n"
          ]
        }
      ]
    },
    {
      "cell_type": "code",
      "metadata": {
        "colab": {
          "base_uri": "https://localhost:8080/"
        },
        "id": "EYIn1_58bgS6",
        "outputId": "cad81eab-9577-4cab-c866-0f4c39a278ac"
      },
      "source": [
        "!ls /content/gdrive/MyDrive/ML/Data/imdb_genres/"
      ],
      "execution_count": null,
      "outputs": [
        {
          "output_type": "stream",
          "name": "stdout",
          "text": [
            "cleaned_movie_data.csv\t       metadata.csv\t     movie_data_one_hot.csv\n",
            "data-20210910T014654Z-001.zip  movie_data_embed.csv  plot_summaries.txt\n",
            "Genre-Notes.csv\t\t       movie_data_lemma.csv\n"
          ]
        }
      ]
    },
    {
      "cell_type": "code",
      "metadata": {
        "id": "0liEgIJfchSx"
      },
      "source": [
        "data_location = \"/content/gdrive/MyDrive/ML/Data/imdb_genres/\"\n",
        "metadata_csv = \"metadata.csv\"\n",
        "plot_csv = \"plot_summaries.txt\""
      ],
      "execution_count": null,
      "outputs": []
    },
    {
      "cell_type": "code",
      "metadata": {
        "id": "CgCn6MJGdBxU"
      },
      "source": [
        "import pandas as pd"
      ],
      "execution_count": null,
      "outputs": []
    },
    {
      "cell_type": "code",
      "metadata": {
        "id": "qC67hlOedDO6"
      },
      "source": [
        "metadata_df = pd.read_csv(f\"{data_location}{metadata_csv}\", index_col=False, converters={\"languages\": eval, \"countries\": eval, \"genres\": eval})\n",
        "plots_df = pd.read_csv(f\"{data_location}{plot_csv}\", sep=\"\\t\", header=None)\n",
        "plots_df.columns = [\"movie_id\", \"plot\"]"
      ],
      "execution_count": null,
      "outputs": []
    },
    {
      "cell_type": "code",
      "metadata": {
        "colab": {
          "base_uri": "https://localhost:8080/",
          "height": 204
        },
        "id": "O2o_KwcudpyA",
        "outputId": "156ade73-0035-49ab-8153-c149c9f7ffed"
      },
      "source": [
        "metadata_df.head(5)"
      ],
      "execution_count": null,
      "outputs": [
        {
          "output_type": "execute_result",
          "data": {
            "text/html": [
              "<div>\n",
              "<style scoped>\n",
              "    .dataframe tbody tr th:only-of-type {\n",
              "        vertical-align: middle;\n",
              "    }\n",
              "\n",
              "    .dataframe tbody tr th {\n",
              "        vertical-align: top;\n",
              "    }\n",
              "\n",
              "    .dataframe thead th {\n",
              "        text-align: right;\n",
              "    }\n",
              "</style>\n",
              "<table border=\"1\" class=\"dataframe\">\n",
              "  <thead>\n",
              "    <tr style=\"text-align: right;\">\n",
              "      <th></th>\n",
              "      <th>movie_id</th>\n",
              "      <th>movie_name</th>\n",
              "      <th>release_date</th>\n",
              "      <th>revenue</th>\n",
              "      <th>runtime</th>\n",
              "      <th>languages</th>\n",
              "      <th>countries</th>\n",
              "      <th>genres</th>\n",
              "    </tr>\n",
              "  </thead>\n",
              "  <tbody>\n",
              "    <tr>\n",
              "      <th>0</th>\n",
              "      <td>975900</td>\n",
              "      <td>ghosts of mars</td>\n",
              "      <td>2001-08-24</td>\n",
              "      <td>14010832.0</td>\n",
              "      <td>98.0</td>\n",
              "      <td>[english language]</td>\n",
              "      <td>[united states of america]</td>\n",
              "      <td>[action, horror/thriller, sci-fi/fantasy, west...</td>\n",
              "    </tr>\n",
              "    <tr>\n",
              "      <th>1</th>\n",
              "      <td>9363483</td>\n",
              "      <td>white of the eye</td>\n",
              "      <td>1987</td>\n",
              "      <td>NaN</td>\n",
              "      <td>110.0</td>\n",
              "      <td>[english language]</td>\n",
              "      <td>[united kingdom]</td>\n",
              "      <td>[horror/thriller]</td>\n",
              "    </tr>\n",
              "    <tr>\n",
              "      <th>2</th>\n",
              "      <td>261236</td>\n",
              "      <td>a woman in flames</td>\n",
              "      <td>1983</td>\n",
              "      <td>NaN</td>\n",
              "      <td>106.0</td>\n",
              "      <td>[german language]</td>\n",
              "      <td>[germany]</td>\n",
              "      <td>[drama]</td>\n",
              "    </tr>\n",
              "    <tr>\n",
              "      <th>3</th>\n",
              "      <td>18998739</td>\n",
              "      <td>the sorcerer's apprentice</td>\n",
              "      <td>2002</td>\n",
              "      <td>NaN</td>\n",
              "      <td>86.0</td>\n",
              "      <td>[english language]</td>\n",
              "      <td>[south africa]</td>\n",
              "      <td>[action, drama, sci-fi/fantasy]</td>\n",
              "    </tr>\n",
              "    <tr>\n",
              "      <th>4</th>\n",
              "      <td>6631279</td>\n",
              "      <td>little city</td>\n",
              "      <td>1997-04-04</td>\n",
              "      <td>NaN</td>\n",
              "      <td>93.0</td>\n",
              "      <td>[english language]</td>\n",
              "      <td>[united states of america]</td>\n",
              "      <td>[comedy, drama, romance]</td>\n",
              "    </tr>\n",
              "  </tbody>\n",
              "</table>\n",
              "</div>"
            ],
            "text/plain": [
              "   movie_id  ...                                             genres\n",
              "0    975900  ...  [action, horror/thriller, sci-fi/fantasy, west...\n",
              "1   9363483  ...                                  [horror/thriller]\n",
              "2    261236  ...                                            [drama]\n",
              "3  18998739  ...                    [action, drama, sci-fi/fantasy]\n",
              "4   6631279  ...                           [comedy, drama, romance]\n",
              "\n",
              "[5 rows x 8 columns]"
            ]
          },
          "metadata": {},
          "execution_count": 14
        }
      ]
    },
    {
      "cell_type": "code",
      "metadata": {
        "colab": {
          "base_uri": "https://localhost:8080/",
          "height": 204
        },
        "id": "LsyC0pj9dvTk",
        "outputId": "7338a3c2-89a7-4cbb-d441-3e4a71f7c217"
      },
      "source": [
        "plots_df.head(5)"
      ],
      "execution_count": null,
      "outputs": [
        {
          "output_type": "execute_result",
          "data": {
            "text/html": [
              "<div>\n",
              "<style scoped>\n",
              "    .dataframe tbody tr th:only-of-type {\n",
              "        vertical-align: middle;\n",
              "    }\n",
              "\n",
              "    .dataframe tbody tr th {\n",
              "        vertical-align: top;\n",
              "    }\n",
              "\n",
              "    .dataframe thead th {\n",
              "        text-align: right;\n",
              "    }\n",
              "</style>\n",
              "<table border=\"1\" class=\"dataframe\">\n",
              "  <thead>\n",
              "    <tr style=\"text-align: right;\">\n",
              "      <th></th>\n",
              "      <th>movie_id</th>\n",
              "      <th>plot</th>\n",
              "    </tr>\n",
              "  </thead>\n",
              "  <tbody>\n",
              "    <tr>\n",
              "      <th>0</th>\n",
              "      <td>23890098</td>\n",
              "      <td>Shlykov, a hard-working taxi driver and Lyosha...</td>\n",
              "    </tr>\n",
              "    <tr>\n",
              "      <th>1</th>\n",
              "      <td>31186339</td>\n",
              "      <td>The nation of Panem consists of a wealthy Capi...</td>\n",
              "    </tr>\n",
              "    <tr>\n",
              "      <th>2</th>\n",
              "      <td>20663735</td>\n",
              "      <td>Poovalli Induchoodan  is sentenced for six yea...</td>\n",
              "    </tr>\n",
              "    <tr>\n",
              "      <th>3</th>\n",
              "      <td>2231378</td>\n",
              "      <td>The Lemon Drop Kid , a New York City swindler,...</td>\n",
              "    </tr>\n",
              "    <tr>\n",
              "      <th>4</th>\n",
              "      <td>595909</td>\n",
              "      <td>Seventh-day Adventist Church pastor Michael Ch...</td>\n",
              "    </tr>\n",
              "  </tbody>\n",
              "</table>\n",
              "</div>"
            ],
            "text/plain": [
              "   movie_id                                               plot\n",
              "0  23890098  Shlykov, a hard-working taxi driver and Lyosha...\n",
              "1  31186339  The nation of Panem consists of a wealthy Capi...\n",
              "2  20663735  Poovalli Induchoodan  is sentenced for six yea...\n",
              "3   2231378  The Lemon Drop Kid , a New York City swindler,...\n",
              "4    595909  Seventh-day Adventist Church pastor Michael Ch..."
            ]
          },
          "metadata": {},
          "execution_count": 15
        }
      ]
    },
    {
      "cell_type": "code",
      "metadata": {
        "id": "M8iRfG5bdxh-"
      },
      "source": [
        "movies_df = metadata_df.merge(plots_df, on=\"movie_id\", how=\"inner\")"
      ],
      "execution_count": null,
      "outputs": []
    },
    {
      "cell_type": "code",
      "metadata": {
        "colab": {
          "base_uri": "https://localhost:8080/",
          "height": 289
        },
        "id": "H87Oa006eBDt",
        "outputId": "45563923-d246-4931-a063-e7efd868a573"
      },
      "source": [
        "movies_df.head(5)"
      ],
      "execution_count": null,
      "outputs": [
        {
          "output_type": "execute_result",
          "data": {
            "text/html": [
              "<div>\n",
              "<style scoped>\n",
              "    .dataframe tbody tr th:only-of-type {\n",
              "        vertical-align: middle;\n",
              "    }\n",
              "\n",
              "    .dataframe tbody tr th {\n",
              "        vertical-align: top;\n",
              "    }\n",
              "\n",
              "    .dataframe thead th {\n",
              "        text-align: right;\n",
              "    }\n",
              "</style>\n",
              "<table border=\"1\" class=\"dataframe\">\n",
              "  <thead>\n",
              "    <tr style=\"text-align: right;\">\n",
              "      <th></th>\n",
              "      <th>movie_id</th>\n",
              "      <th>movie_name</th>\n",
              "      <th>release_date</th>\n",
              "      <th>revenue</th>\n",
              "      <th>runtime</th>\n",
              "      <th>languages</th>\n",
              "      <th>countries</th>\n",
              "      <th>genres</th>\n",
              "      <th>plot</th>\n",
              "    </tr>\n",
              "  </thead>\n",
              "  <tbody>\n",
              "    <tr>\n",
              "      <th>0</th>\n",
              "      <td>975900</td>\n",
              "      <td>ghosts of mars</td>\n",
              "      <td>2001-08-24</td>\n",
              "      <td>14010832.0</td>\n",
              "      <td>98.0</td>\n",
              "      <td>[english language]</td>\n",
              "      <td>[united states of america]</td>\n",
              "      <td>[action, horror/thriller, sci-fi/fantasy, west...</td>\n",
              "      <td>Set in the second half of the 22nd century, th...</td>\n",
              "    </tr>\n",
              "    <tr>\n",
              "      <th>1</th>\n",
              "      <td>9363483</td>\n",
              "      <td>white of the eye</td>\n",
              "      <td>1987</td>\n",
              "      <td>NaN</td>\n",
              "      <td>110.0</td>\n",
              "      <td>[english language]</td>\n",
              "      <td>[united kingdom]</td>\n",
              "      <td>[horror/thriller]</td>\n",
              "      <td>A series of murders of rich young women throug...</td>\n",
              "    </tr>\n",
              "    <tr>\n",
              "      <th>2</th>\n",
              "      <td>261236</td>\n",
              "      <td>a woman in flames</td>\n",
              "      <td>1983</td>\n",
              "      <td>NaN</td>\n",
              "      <td>106.0</td>\n",
              "      <td>[german language]</td>\n",
              "      <td>[germany]</td>\n",
              "      <td>[drama]</td>\n",
              "      <td>Eva, an upper class housewife, becomes frustra...</td>\n",
              "    </tr>\n",
              "    <tr>\n",
              "      <th>3</th>\n",
              "      <td>18998739</td>\n",
              "      <td>the sorcerer's apprentice</td>\n",
              "      <td>2002</td>\n",
              "      <td>NaN</td>\n",
              "      <td>86.0</td>\n",
              "      <td>[english language]</td>\n",
              "      <td>[south africa]</td>\n",
              "      <td>[action, drama, sci-fi/fantasy]</td>\n",
              "      <td>Every hundred years, the evil Morgana  returns...</td>\n",
              "    </tr>\n",
              "    <tr>\n",
              "      <th>4</th>\n",
              "      <td>6631279</td>\n",
              "      <td>little city</td>\n",
              "      <td>1997-04-04</td>\n",
              "      <td>NaN</td>\n",
              "      <td>93.0</td>\n",
              "      <td>[english language]</td>\n",
              "      <td>[united states of america]</td>\n",
              "      <td>[comedy, drama, romance]</td>\n",
              "      <td>Adam, a San Francisco-based artist who works a...</td>\n",
              "    </tr>\n",
              "  </tbody>\n",
              "</table>\n",
              "</div>"
            ],
            "text/plain": [
              "   movie_id  ...                                               plot\n",
              "0    975900  ...  Set in the second half of the 22nd century, th...\n",
              "1   9363483  ...  A series of murders of rich young women throug...\n",
              "2    261236  ...  Eva, an upper class housewife, becomes frustra...\n",
              "3  18998739  ...  Every hundred years, the evil Morgana  returns...\n",
              "4   6631279  ...  Adam, a San Francisco-based artist who works a...\n",
              "\n",
              "[5 rows x 9 columns]"
            ]
          },
          "metadata": {},
          "execution_count": 17
        }
      ]
    },
    {
      "cell_type": "code",
      "metadata": {
        "id": "ZN9h8wo1eC0h"
      },
      "source": [
        "movie_clean_df = movies_df[[\"movie_name\", \"genres\", \"plot\"]].copy()"
      ],
      "execution_count": null,
      "outputs": []
    },
    {
      "cell_type": "code",
      "metadata": {
        "id": "zMYvcQuUfcth"
      },
      "source": [
        "import re\n",
        "\n",
        "def clean_text(text):\n",
        "  text = re.sub(\"\\'\", \"\", text)\n",
        "  text = re.sub(\"[^a-zA-Z]\", \" \", text)\n",
        "  text = \" \".join(text.split())\n",
        "  text = text.lower()\n",
        "\n",
        "  return text"
      ],
      "execution_count": null,
      "outputs": []
    },
    {
      "cell_type": "code",
      "metadata": {
        "colab": {
          "base_uri": "https://localhost:8080/",
          "height": 204
        },
        "id": "sSKrzwufgx5T",
        "outputId": "96c798ca-6bba-4bd4-bbec-871643f149d0"
      },
      "source": [
        "movie_clean_df[\"clean_plot\"] = movie_clean_df[\"plot\"].apply(lambda x: clean_text(x))\n",
        "\n",
        "movie_clean_df.head(5)"
      ],
      "execution_count": null,
      "outputs": [
        {
          "output_type": "execute_result",
          "data": {
            "text/html": [
              "<div>\n",
              "<style scoped>\n",
              "    .dataframe tbody tr th:only-of-type {\n",
              "        vertical-align: middle;\n",
              "    }\n",
              "\n",
              "    .dataframe tbody tr th {\n",
              "        vertical-align: top;\n",
              "    }\n",
              "\n",
              "    .dataframe thead th {\n",
              "        text-align: right;\n",
              "    }\n",
              "</style>\n",
              "<table border=\"1\" class=\"dataframe\">\n",
              "  <thead>\n",
              "    <tr style=\"text-align: right;\">\n",
              "      <th></th>\n",
              "      <th>movie_name</th>\n",
              "      <th>genres</th>\n",
              "      <th>plot</th>\n",
              "      <th>clean_plot</th>\n",
              "    </tr>\n",
              "  </thead>\n",
              "  <tbody>\n",
              "    <tr>\n",
              "      <th>0</th>\n",
              "      <td>ghosts of mars</td>\n",
              "      <td>[action, horror/thriller, sci-fi/fantasy, west...</td>\n",
              "      <td>Set in the second half of the 22nd century, th...</td>\n",
              "      <td>set in the second half of the nd century the f...</td>\n",
              "    </tr>\n",
              "    <tr>\n",
              "      <th>1</th>\n",
              "      <td>white of the eye</td>\n",
              "      <td>[horror/thriller]</td>\n",
              "      <td>A series of murders of rich young women throug...</td>\n",
              "      <td>a series of murders of rich young women throug...</td>\n",
              "    </tr>\n",
              "    <tr>\n",
              "      <th>2</th>\n",
              "      <td>a woman in flames</td>\n",
              "      <td>[drama]</td>\n",
              "      <td>Eva, an upper class housewife, becomes frustra...</td>\n",
              "      <td>eva an upper class housewife becomes frustrate...</td>\n",
              "    </tr>\n",
              "    <tr>\n",
              "      <th>3</th>\n",
              "      <td>the sorcerer's apprentice</td>\n",
              "      <td>[action, drama, sci-fi/fantasy]</td>\n",
              "      <td>Every hundred years, the evil Morgana  returns...</td>\n",
              "      <td>every hundred years the evil morgana returns t...</td>\n",
              "    </tr>\n",
              "    <tr>\n",
              "      <th>4</th>\n",
              "      <td>little city</td>\n",
              "      <td>[comedy, drama, romance]</td>\n",
              "      <td>Adam, a San Francisco-based artist who works a...</td>\n",
              "      <td>adam a san francisco based artist who works as...</td>\n",
              "    </tr>\n",
              "  </tbody>\n",
              "</table>\n",
              "</div>"
            ],
            "text/plain": [
              "                  movie_name  ...                                         clean_plot\n",
              "0             ghosts of mars  ...  set in the second half of the nd century the f...\n",
              "1           white of the eye  ...  a series of murders of rich young women throug...\n",
              "2          a woman in flames  ...  eva an upper class housewife becomes frustrate...\n",
              "3  the sorcerer's apprentice  ...  every hundred years the evil morgana returns t...\n",
              "4                little city  ...  adam a san francisco based artist who works as...\n",
              "\n",
              "[5 rows x 4 columns]"
            ]
          },
          "metadata": {},
          "execution_count": 20
        }
      ]
    },
    {
      "cell_type": "code",
      "metadata": {
        "colab": {
          "base_uri": "https://localhost:8080/"
        },
        "id": "ha7W6Y2fhFUQ",
        "outputId": "7a6c5cbb-0462-4745-de49-c743fe2dd80e"
      },
      "source": [
        "import nltk\n",
        "nltk.download(\"stopwords\")"
      ],
      "execution_count": null,
      "outputs": [
        {
          "output_type": "stream",
          "name": "stdout",
          "text": [
            "[nltk_data] Downloading package stopwords to /root/nltk_data...\n",
            "[nltk_data]   Unzipping corpora/stopwords.zip.\n"
          ]
        },
        {
          "output_type": "execute_result",
          "data": {
            "text/plain": [
              "True"
            ]
          },
          "metadata": {},
          "execution_count": 21
        }
      ]
    },
    {
      "cell_type": "code",
      "metadata": {
        "id": "RDu1rKBbhZHf"
      },
      "source": [
        "from nltk.corpus import stopwords\n",
        "stopwords = set(stopwords.words(\"english\"))\n",
        "\n",
        "def remove_stopwords(text):\n",
        "  text = [w for w in text.split() if not w in stopwords]\n",
        "  return \" \".join(text)"
      ],
      "execution_count": null,
      "outputs": []
    },
    {
      "cell_type": "code",
      "metadata": {
        "id": "T2qz4P2ph3CQ"
      },
      "source": [
        "movie_clean_df[\"clean_plot\"] = movie_clean_df[\"clean_plot\"].apply(lambda x: remove_stopwords(x))"
      ],
      "execution_count": null,
      "outputs": []
    },
    {
      "cell_type": "code",
      "metadata": {
        "colab": {
          "base_uri": "https://localhost:8080/",
          "height": 204
        },
        "id": "Eaoq8_ORiDfR",
        "outputId": "996cfdcf-7879-445d-e1d9-87d0ded129e7"
      },
      "source": [
        "movie_clean_df.head(5)"
      ],
      "execution_count": null,
      "outputs": [
        {
          "output_type": "execute_result",
          "data": {
            "text/html": [
              "<div>\n",
              "<style scoped>\n",
              "    .dataframe tbody tr th:only-of-type {\n",
              "        vertical-align: middle;\n",
              "    }\n",
              "\n",
              "    .dataframe tbody tr th {\n",
              "        vertical-align: top;\n",
              "    }\n",
              "\n",
              "    .dataframe thead th {\n",
              "        text-align: right;\n",
              "    }\n",
              "</style>\n",
              "<table border=\"1\" class=\"dataframe\">\n",
              "  <thead>\n",
              "    <tr style=\"text-align: right;\">\n",
              "      <th></th>\n",
              "      <th>movie_name</th>\n",
              "      <th>genres</th>\n",
              "      <th>plot</th>\n",
              "      <th>clean_plot</th>\n",
              "    </tr>\n",
              "  </thead>\n",
              "  <tbody>\n",
              "    <tr>\n",
              "      <th>0</th>\n",
              "      <td>ghosts of mars</td>\n",
              "      <td>[action, horror/thriller, sci-fi/fantasy, west...</td>\n",
              "      <td>Set in the second half of the 22nd century, th...</td>\n",
              "      <td>set second half nd century film depicts mars p...</td>\n",
              "    </tr>\n",
              "    <tr>\n",
              "      <th>1</th>\n",
              "      <td>white of the eye</td>\n",
              "      <td>[horror/thriller]</td>\n",
              "      <td>A series of murders of rich young women throug...</td>\n",
              "      <td>series murders rich young women throughout ari...</td>\n",
              "    </tr>\n",
              "    <tr>\n",
              "      <th>2</th>\n",
              "      <td>a woman in flames</td>\n",
              "      <td>[drama]</td>\n",
              "      <td>Eva, an upper class housewife, becomes frustra...</td>\n",
              "      <td>eva upper class housewife becomes frustrated l...</td>\n",
              "    </tr>\n",
              "    <tr>\n",
              "      <th>3</th>\n",
              "      <td>the sorcerer's apprentice</td>\n",
              "      <td>[action, drama, sci-fi/fantasy]</td>\n",
              "      <td>Every hundred years, the evil Morgana  returns...</td>\n",
              "      <td>every hundred years evil morgana returns claim...</td>\n",
              "    </tr>\n",
              "    <tr>\n",
              "      <th>4</th>\n",
              "      <td>little city</td>\n",
              "      <td>[comedy, drama, romance]</td>\n",
              "      <td>Adam, a San Francisco-based artist who works a...</td>\n",
              "      <td>adam san francisco based artist works cab driv...</td>\n",
              "    </tr>\n",
              "  </tbody>\n",
              "</table>\n",
              "</div>"
            ],
            "text/plain": [
              "                  movie_name  ...                                         clean_plot\n",
              "0             ghosts of mars  ...  set second half nd century film depicts mars p...\n",
              "1           white of the eye  ...  series murders rich young women throughout ari...\n",
              "2          a woman in flames  ...  eva upper class housewife becomes frustrated l...\n",
              "3  the sorcerer's apprentice  ...  every hundred years evil morgana returns claim...\n",
              "4                little city  ...  adam san francisco based artist works cab driv...\n",
              "\n",
              "[5 rows x 4 columns]"
            ]
          },
          "metadata": {},
          "execution_count": 24
        }
      ]
    },
    {
      "cell_type": "code",
      "metadata": {
        "colab": {
          "base_uri": "https://localhost:8080/"
        },
        "id": "S6gB9HeTiHJZ",
        "outputId": "78e93e10-2f4e-4576-ef96-df6458426b75"
      },
      "source": [
        "nltk.download(\"wordnet\")\n",
        "w_tokenizer = nltk.tokenize.WhitespaceTokenizer()\n",
        "lemmatizer = nltk.stem.WordNetLemmatizer()\n",
        "\n",
        "def lemmatize_text(text):\n",
        "  return [lemmatizer.lemmatize(w) for w in w_tokenizer.tokenize(text)]"
      ],
      "execution_count": null,
      "outputs": [
        {
          "output_type": "stream",
          "name": "stdout",
          "text": [
            "[nltk_data] Downloading package wordnet to /root/nltk_data...\n",
            "[nltk_data]   Unzipping corpora/wordnet.zip.\n"
          ]
        }
      ]
    },
    {
      "cell_type": "code",
      "metadata": {
        "colab": {
          "base_uri": "https://localhost:8080/"
        },
        "id": "MKfj0W5ejH79",
        "outputId": "74586a98-99e8-4cd5-e5b2-da30a25318ad"
      },
      "source": [
        "%time movie_clean_df[\"lemma_plot\"] = movie_clean_df[\"clean_plot\"].apply(lemmatize_text)"
      ],
      "execution_count": null,
      "outputs": [
        {
          "output_type": "stream",
          "name": "stdout",
          "text": [
            "CPU times: user 36.3 s, sys: 1.08 s, total: 37.4 s\n",
            "Wall time: 37.5 s\n"
          ]
        }
      ]
    },
    {
      "cell_type": "code",
      "metadata": {
        "colab": {
          "base_uri": "https://localhost:8080/",
          "height": 289
        },
        "id": "gICkl5NyjbZY",
        "outputId": "84487d06-2a4b-4eab-b065-cdcea6cef9da"
      },
      "source": [
        "movie_clean_df.head()"
      ],
      "execution_count": null,
      "outputs": [
        {
          "output_type": "execute_result",
          "data": {
            "text/html": [
              "<div>\n",
              "<style scoped>\n",
              "    .dataframe tbody tr th:only-of-type {\n",
              "        vertical-align: middle;\n",
              "    }\n",
              "\n",
              "    .dataframe tbody tr th {\n",
              "        vertical-align: top;\n",
              "    }\n",
              "\n",
              "    .dataframe thead th {\n",
              "        text-align: right;\n",
              "    }\n",
              "</style>\n",
              "<table border=\"1\" class=\"dataframe\">\n",
              "  <thead>\n",
              "    <tr style=\"text-align: right;\">\n",
              "      <th></th>\n",
              "      <th>movie_name</th>\n",
              "      <th>genres</th>\n",
              "      <th>plot</th>\n",
              "      <th>clean_plot</th>\n",
              "      <th>lemma_plot</th>\n",
              "    </tr>\n",
              "  </thead>\n",
              "  <tbody>\n",
              "    <tr>\n",
              "      <th>0</th>\n",
              "      <td>ghosts of mars</td>\n",
              "      <td>[action, horror/thriller, sci-fi/fantasy, west...</td>\n",
              "      <td>Set in the second half of the 22nd century, th...</td>\n",
              "      <td>set second half nd century film depicts mars p...</td>\n",
              "      <td>[set, second, half, nd, century, film, depicts...</td>\n",
              "    </tr>\n",
              "    <tr>\n",
              "      <th>1</th>\n",
              "      <td>white of the eye</td>\n",
              "      <td>[horror/thriller]</td>\n",
              "      <td>A series of murders of rich young women throug...</td>\n",
              "      <td>series murders rich young women throughout ari...</td>\n",
              "      <td>[series, murder, rich, young, woman, throughou...</td>\n",
              "    </tr>\n",
              "    <tr>\n",
              "      <th>2</th>\n",
              "      <td>a woman in flames</td>\n",
              "      <td>[drama]</td>\n",
              "      <td>Eva, an upper class housewife, becomes frustra...</td>\n",
              "      <td>eva upper class housewife becomes frustrated l...</td>\n",
              "      <td>[eva, upper, class, housewife, becomes, frustr...</td>\n",
              "    </tr>\n",
              "    <tr>\n",
              "      <th>3</th>\n",
              "      <td>the sorcerer's apprentice</td>\n",
              "      <td>[action, drama, sci-fi/fantasy]</td>\n",
              "      <td>Every hundred years, the evil Morgana  returns...</td>\n",
              "      <td>every hundred years evil morgana returns claim...</td>\n",
              "      <td>[every, hundred, year, evil, morgana, return, ...</td>\n",
              "    </tr>\n",
              "    <tr>\n",
              "      <th>4</th>\n",
              "      <td>little city</td>\n",
              "      <td>[comedy, drama, romance]</td>\n",
              "      <td>Adam, a San Francisco-based artist who works a...</td>\n",
              "      <td>adam san francisco based artist works cab driv...</td>\n",
              "      <td>[adam, san, francisco, based, artist, work, ca...</td>\n",
              "    </tr>\n",
              "  </tbody>\n",
              "</table>\n",
              "</div>"
            ],
            "text/plain": [
              "                  movie_name  ...                                         lemma_plot\n",
              "0             ghosts of mars  ...  [set, second, half, nd, century, film, depicts...\n",
              "1           white of the eye  ...  [series, murder, rich, young, woman, throughou...\n",
              "2          a woman in flames  ...  [eva, upper, class, housewife, becomes, frustr...\n",
              "3  the sorcerer's apprentice  ...  [every, hundred, year, evil, morgana, return, ...\n",
              "4                little city  ...  [adam, san, francisco, based, artist, work, ca...\n",
              "\n",
              "[5 rows x 5 columns]"
            ]
          },
          "metadata": {},
          "execution_count": 27
        }
      ]
    },
    {
      "cell_type": "code",
      "metadata": {
        "id": "TlfT7csVjr2U"
      },
      "source": [
        "movie_clean_df.to_csv(f\"{data_location}movie_data_lemma.csv\")"
      ],
      "execution_count": null,
      "outputs": []
    },
    {
      "cell_type": "code",
      "metadata": {
        "colab": {
          "base_uri": "https://localhost:8080/",
          "height": 306
        },
        "id": "pzoUHImqjzxZ",
        "outputId": "2e7589d3-28a3-48df-d829-9e2d1262a0b1"
      },
      "source": [
        "movie_df = pd.read_csv(f\"{data_location}movie_data_lemma.csv\", converters={\"genres\": eval, \"lemma_plot\": eval})\n",
        "movie_df.head()"
      ],
      "execution_count": null,
      "outputs": [
        {
          "output_type": "execute_result",
          "data": {
            "text/html": [
              "<div>\n",
              "<style scoped>\n",
              "    .dataframe tbody tr th:only-of-type {\n",
              "        vertical-align: middle;\n",
              "    }\n",
              "\n",
              "    .dataframe tbody tr th {\n",
              "        vertical-align: top;\n",
              "    }\n",
              "\n",
              "    .dataframe thead th {\n",
              "        text-align: right;\n",
              "    }\n",
              "</style>\n",
              "<table border=\"1\" class=\"dataframe\">\n",
              "  <thead>\n",
              "    <tr style=\"text-align: right;\">\n",
              "      <th></th>\n",
              "      <th>Unnamed: 0</th>\n",
              "      <th>movie_name</th>\n",
              "      <th>genres</th>\n",
              "      <th>plot</th>\n",
              "      <th>clean_plot</th>\n",
              "      <th>lemma_plot</th>\n",
              "    </tr>\n",
              "  </thead>\n",
              "  <tbody>\n",
              "    <tr>\n",
              "      <th>0</th>\n",
              "      <td>0</td>\n",
              "      <td>ghosts of mars</td>\n",
              "      <td>[action, horror/thriller, sci-fi/fantasy, west...</td>\n",
              "      <td>Set in the second half of the 22nd century, th...</td>\n",
              "      <td>set second half nd century film depicts mars p...</td>\n",
              "      <td>[set, second, half, nd, century, film, depicts...</td>\n",
              "    </tr>\n",
              "    <tr>\n",
              "      <th>1</th>\n",
              "      <td>1</td>\n",
              "      <td>white of the eye</td>\n",
              "      <td>[horror/thriller]</td>\n",
              "      <td>A series of murders of rich young women throug...</td>\n",
              "      <td>series murders rich young women throughout ari...</td>\n",
              "      <td>[series, murder, rich, young, woman, throughou...</td>\n",
              "    </tr>\n",
              "    <tr>\n",
              "      <th>2</th>\n",
              "      <td>2</td>\n",
              "      <td>a woman in flames</td>\n",
              "      <td>[drama]</td>\n",
              "      <td>Eva, an upper class housewife, becomes frustra...</td>\n",
              "      <td>eva upper class housewife becomes frustrated l...</td>\n",
              "      <td>[eva, upper, class, housewife, becomes, frustr...</td>\n",
              "    </tr>\n",
              "    <tr>\n",
              "      <th>3</th>\n",
              "      <td>3</td>\n",
              "      <td>the sorcerer's apprentice</td>\n",
              "      <td>[action, drama, sci-fi/fantasy]</td>\n",
              "      <td>Every hundred years, the evil Morgana  returns...</td>\n",
              "      <td>every hundred years evil morgana returns claim...</td>\n",
              "      <td>[every, hundred, year, evil, morgana, return, ...</td>\n",
              "    </tr>\n",
              "    <tr>\n",
              "      <th>4</th>\n",
              "      <td>4</td>\n",
              "      <td>little city</td>\n",
              "      <td>[comedy, drama, romance]</td>\n",
              "      <td>Adam, a San Francisco-based artist who works a...</td>\n",
              "      <td>adam san francisco based artist works cab driv...</td>\n",
              "      <td>[adam, san, francisco, based, artist, work, ca...</td>\n",
              "    </tr>\n",
              "  </tbody>\n",
              "</table>\n",
              "</div>"
            ],
            "text/plain": [
              "   Unnamed: 0  ...                                         lemma_plot\n",
              "0           0  ...  [set, second, half, nd, century, film, depicts...\n",
              "1           1  ...  [series, murder, rich, young, woman, throughou...\n",
              "2           2  ...  [eva, upper, class, housewife, becomes, frustr...\n",
              "3           3  ...  [every, hundred, year, evil, morgana, return, ...\n",
              "4           4  ...  [adam, san, francisco, based, artist, work, ca...\n",
              "\n",
              "[5 rows x 6 columns]"
            ]
          },
          "metadata": {},
          "execution_count": 32
        }
      ]
    },
    {
      "cell_type": "code",
      "metadata": {
        "colab": {
          "base_uri": "https://localhost:8080/",
          "height": 204
        },
        "id": "60CU0_9dj3NK",
        "outputId": "4ef15935-3717-4c60-d450-480cf6eaf924"
      },
      "source": [
        "one_hot = pd.get_dummies(movie_df[\"genres\"].apply(pd.Series).stack()).sum(level=0)\n",
        "one_hot.head()"
      ],
      "execution_count": null,
      "outputs": [
        {
          "output_type": "execute_result",
          "data": {
            "text/html": [
              "<div>\n",
              "<style scoped>\n",
              "    .dataframe tbody tr th:only-of-type {\n",
              "        vertical-align: middle;\n",
              "    }\n",
              "\n",
              "    .dataframe tbody tr th {\n",
              "        vertical-align: top;\n",
              "    }\n",
              "\n",
              "    .dataframe thead th {\n",
              "        text-align: right;\n",
              "    }\n",
              "</style>\n",
              "<table border=\"1\" class=\"dataframe\">\n",
              "  <thead>\n",
              "    <tr style=\"text-align: right;\">\n",
              "      <th></th>\n",
              "      <th>Misc</th>\n",
              "      <th>action</th>\n",
              "      <th>comedy</th>\n",
              "      <th>documentary</th>\n",
              "      <th>drama</th>\n",
              "      <th>horror/thriller</th>\n",
              "      <th>romance</th>\n",
              "      <th>sci-fi/fantasy</th>\n",
              "      <th>western</th>\n",
              "    </tr>\n",
              "  </thead>\n",
              "  <tbody>\n",
              "    <tr>\n",
              "      <th>0</th>\n",
              "      <td>0</td>\n",
              "      <td>1</td>\n",
              "      <td>0</td>\n",
              "      <td>0</td>\n",
              "      <td>0</td>\n",
              "      <td>1</td>\n",
              "      <td>0</td>\n",
              "      <td>1</td>\n",
              "      <td>1</td>\n",
              "    </tr>\n",
              "    <tr>\n",
              "      <th>1</th>\n",
              "      <td>0</td>\n",
              "      <td>0</td>\n",
              "      <td>0</td>\n",
              "      <td>0</td>\n",
              "      <td>0</td>\n",
              "      <td>1</td>\n",
              "      <td>0</td>\n",
              "      <td>0</td>\n",
              "      <td>0</td>\n",
              "    </tr>\n",
              "    <tr>\n",
              "      <th>2</th>\n",
              "      <td>0</td>\n",
              "      <td>0</td>\n",
              "      <td>0</td>\n",
              "      <td>0</td>\n",
              "      <td>1</td>\n",
              "      <td>0</td>\n",
              "      <td>0</td>\n",
              "      <td>0</td>\n",
              "      <td>0</td>\n",
              "    </tr>\n",
              "    <tr>\n",
              "      <th>3</th>\n",
              "      <td>0</td>\n",
              "      <td>1</td>\n",
              "      <td>0</td>\n",
              "      <td>0</td>\n",
              "      <td>1</td>\n",
              "      <td>0</td>\n",
              "      <td>0</td>\n",
              "      <td>1</td>\n",
              "      <td>0</td>\n",
              "    </tr>\n",
              "    <tr>\n",
              "      <th>4</th>\n",
              "      <td>0</td>\n",
              "      <td>0</td>\n",
              "      <td>1</td>\n",
              "      <td>0</td>\n",
              "      <td>1</td>\n",
              "      <td>0</td>\n",
              "      <td>1</td>\n",
              "      <td>0</td>\n",
              "      <td>0</td>\n",
              "    </tr>\n",
              "  </tbody>\n",
              "</table>\n",
              "</div>"
            ],
            "text/plain": [
              "   Misc  action  comedy  ...  romance  sci-fi/fantasy  western\n",
              "0     0       1       0  ...        0               1        1\n",
              "1     0       0       0  ...        0               0        0\n",
              "2     0       0       0  ...        0               0        0\n",
              "3     0       1       0  ...        0               1        0\n",
              "4     0       0       1  ...        1               0        0\n",
              "\n",
              "[5 rows x 9 columns]"
            ]
          },
          "metadata": {},
          "execution_count": 33
        }
      ]
    },
    {
      "cell_type": "code",
      "metadata": {
        "colab": {
          "base_uri": "https://localhost:8080/",
          "height": 629
        },
        "id": "eiktKEOHliG1",
        "outputId": "d67c2127-5b3d-4557-cc6d-a342e9dce47c"
      },
      "source": [
        "df = movie_df.join(one_hot)\n",
        "df.head(5)"
      ],
      "execution_count": null,
      "outputs": [
        {
          "output_type": "execute_result",
          "data": {
            "text/html": [
              "<div>\n",
              "<style scoped>\n",
              "    .dataframe tbody tr th:only-of-type {\n",
              "        vertical-align: middle;\n",
              "    }\n",
              "\n",
              "    .dataframe tbody tr th {\n",
              "        vertical-align: top;\n",
              "    }\n",
              "\n",
              "    .dataframe thead th {\n",
              "        text-align: right;\n",
              "    }\n",
              "</style>\n",
              "<table border=\"1\" class=\"dataframe\">\n",
              "  <thead>\n",
              "    <tr style=\"text-align: right;\">\n",
              "      <th></th>\n",
              "      <th>Unnamed: 0</th>\n",
              "      <th>movie_name</th>\n",
              "      <th>genres</th>\n",
              "      <th>plot</th>\n",
              "      <th>clean_plot</th>\n",
              "      <th>lemma_plot</th>\n",
              "      <th>Misc</th>\n",
              "      <th>action</th>\n",
              "      <th>comedy</th>\n",
              "      <th>documentary</th>\n",
              "      <th>drama</th>\n",
              "      <th>horror/thriller</th>\n",
              "      <th>romance</th>\n",
              "      <th>sci-fi/fantasy</th>\n",
              "      <th>western</th>\n",
              "    </tr>\n",
              "  </thead>\n",
              "  <tbody>\n",
              "    <tr>\n",
              "      <th>0</th>\n",
              "      <td>0</td>\n",
              "      <td>ghosts of mars</td>\n",
              "      <td>[action, horror/thriller, sci-fi/fantasy, west...</td>\n",
              "      <td>Set in the second half of the 22nd century, th...</td>\n",
              "      <td>set second half nd century film depicts mars p...</td>\n",
              "      <td>[set, second, half, nd, century, film, depicts...</td>\n",
              "      <td>0</td>\n",
              "      <td>1</td>\n",
              "      <td>0</td>\n",
              "      <td>0</td>\n",
              "      <td>0</td>\n",
              "      <td>1</td>\n",
              "      <td>0</td>\n",
              "      <td>1</td>\n",
              "      <td>1</td>\n",
              "    </tr>\n",
              "    <tr>\n",
              "      <th>1</th>\n",
              "      <td>1</td>\n",
              "      <td>white of the eye</td>\n",
              "      <td>[horror/thriller]</td>\n",
              "      <td>A series of murders of rich young women throug...</td>\n",
              "      <td>series murders rich young women throughout ari...</td>\n",
              "      <td>[series, murder, rich, young, woman, throughou...</td>\n",
              "      <td>0</td>\n",
              "      <td>0</td>\n",
              "      <td>0</td>\n",
              "      <td>0</td>\n",
              "      <td>0</td>\n",
              "      <td>1</td>\n",
              "      <td>0</td>\n",
              "      <td>0</td>\n",
              "      <td>0</td>\n",
              "    </tr>\n",
              "    <tr>\n",
              "      <th>2</th>\n",
              "      <td>2</td>\n",
              "      <td>a woman in flames</td>\n",
              "      <td>[drama]</td>\n",
              "      <td>Eva, an upper class housewife, becomes frustra...</td>\n",
              "      <td>eva upper class housewife becomes frustrated l...</td>\n",
              "      <td>[eva, upper, class, housewife, becomes, frustr...</td>\n",
              "      <td>0</td>\n",
              "      <td>0</td>\n",
              "      <td>0</td>\n",
              "      <td>0</td>\n",
              "      <td>1</td>\n",
              "      <td>0</td>\n",
              "      <td>0</td>\n",
              "      <td>0</td>\n",
              "      <td>0</td>\n",
              "    </tr>\n",
              "    <tr>\n",
              "      <th>3</th>\n",
              "      <td>3</td>\n",
              "      <td>the sorcerer's apprentice</td>\n",
              "      <td>[action, drama, sci-fi/fantasy]</td>\n",
              "      <td>Every hundred years, the evil Morgana  returns...</td>\n",
              "      <td>every hundred years evil morgana returns claim...</td>\n",
              "      <td>[every, hundred, year, evil, morgana, return, ...</td>\n",
              "      <td>0</td>\n",
              "      <td>1</td>\n",
              "      <td>0</td>\n",
              "      <td>0</td>\n",
              "      <td>1</td>\n",
              "      <td>0</td>\n",
              "      <td>0</td>\n",
              "      <td>1</td>\n",
              "      <td>0</td>\n",
              "    </tr>\n",
              "    <tr>\n",
              "      <th>4</th>\n",
              "      <td>4</td>\n",
              "      <td>little city</td>\n",
              "      <td>[comedy, drama, romance]</td>\n",
              "      <td>Adam, a San Francisco-based artist who works a...</td>\n",
              "      <td>adam san francisco based artist works cab driv...</td>\n",
              "      <td>[adam, san, francisco, based, artist, work, ca...</td>\n",
              "      <td>0</td>\n",
              "      <td>0</td>\n",
              "      <td>1</td>\n",
              "      <td>0</td>\n",
              "      <td>1</td>\n",
              "      <td>0</td>\n",
              "      <td>1</td>\n",
              "      <td>0</td>\n",
              "      <td>0</td>\n",
              "    </tr>\n",
              "  </tbody>\n",
              "</table>\n",
              "</div>"
            ],
            "text/plain": [
              "   Unnamed: 0                 movie_name  ... sci-fi/fantasy western\n",
              "0           0             ghosts of mars  ...              1       1\n",
              "1           1           white of the eye  ...              0       0\n",
              "2           2          a woman in flames  ...              0       0\n",
              "3           3  the sorcerer's apprentice  ...              1       0\n",
              "4           4                little city  ...              0       0\n",
              "\n",
              "[5 rows x 15 columns]"
            ]
          },
          "metadata": {},
          "execution_count": 34
        }
      ]
    },
    {
      "cell_type": "code",
      "metadata": {
        "id": "kytSzK0forW_"
      },
      "source": [
        "df.to_parquet(f\"{data_location}movie_data_one_hot.parquet\")"
      ],
      "execution_count": null,
      "outputs": []
    },
    {
      "cell_type": "code",
      "metadata": {
        "id": "q1fikxcMpG9f"
      },
      "source": [
        ""
      ],
      "execution_count": null,
      "outputs": []
    }
  ]
}